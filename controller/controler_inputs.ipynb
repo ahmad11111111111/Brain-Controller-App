{
 "cells": [
  {
   "cell_type": "code",
   "execution_count": 4,
   "metadata": {},
   "outputs": [
    {
     "name": "stdout",
     "output_type": "stream",
     "text": [
      "pygame 2.5.1 (SDL 2.28.2, Python 3.11.5)\n",
      "Hello from the pygame community. https://www.pygame.org/contribute.html\n"
     ]
    }
   ],
   "source": [
    "\n",
    "import pygame\n",
    "import multiprocessing\n",
    "import time\n",
    "class JoystickController:\n",
    "    def __init__(self):\n",
    "        pygame.init()\n",
    "        self.joysticks = []\n",
    "        self.initialize_joysticks()\n",
    "        self.data_queue = multiprocessing.Queue()  # Use a Queue for data\n",
    "        self.process = None\n",
    "        self.terminate_event = multiprocessing.Event()  # Initialize the termination event\n",
    "\n",
    "    def initialize_joysticks(self):\n",
    "        num_joysticks = pygame.joystick.get_count()\n",
    "        for i in range(num_joysticks):\n",
    "            joystick = pygame.joystick.Joystick(i)\n",
    "            joystick.init()\n",
    "            self.joysticks.append(joystick)\n",
    "\n",
    "    def check_joystick_connection(self):\n",
    "        connected_joysticks = []\n",
    "        for joystick in self.joysticks:\n",
    "            if joystick.get_init():\n",
    "                connected_joysticks.append(joystick)\n",
    "        return connected_joysticks\n",
    "\n",
    "    def update(self, sampling_frequency=10):\n",
    "        # Calculate the time interval between updates based on the sampling frequency\n",
    "        update_interval = 1.0 / sampling_frequency\n",
    "\n",
    "        while not self.terminate_event.is_set():\n",
    "            start_time = time.time()\n",
    "\n",
    "            joystick_data_list = []\n",
    "            connected_joysticks = self.check_joystick_connection()\n",
    "            \n",
    "            for joystick in connected_joysticks:\n",
    "                pygame.event.get()\n",
    "                num_axes = joystick.get_numaxes()\n",
    "                num_buttons = joystick.get_numbuttons()\n",
    "\n",
    "                axes = [0.0] * num_axes\n",
    "                buttons = [False] * num_buttons\n",
    "\n",
    "                for i in range(num_axes):\n",
    "                    axes[i] = joystick.get_axis(i)\n",
    "\n",
    "                for i in range(num_buttons):\n",
    "                    buttons[i] = joystick.get_button(i)\n",
    "\n",
    "                joystick_data = {\n",
    "                    \"axes\": axes,\n",
    "                    \"buttons\": buttons\n",
    "                }\n",
    "                joystick_data_list.append(joystick_data)\n",
    "            # Put the data into the queue\n",
    "            self.data_queue.put(joystick_data_list)\n",
    "\n",
    "            elapsed_time = time.time() - start_time\n",
    "\n",
    "            # Sleep to maintain the desired update frequency\n",
    "            if elapsed_time < update_interval:\n",
    "                time.sleep(update_interval - elapsed_time)\n",
    "\n",
    "    def start_update_process(self, sampling_frequency=10):\n",
    "        self.process = multiprocessing.Process(target=self.update, args=(sampling_frequency,))\n",
    "        self.process.start()\n",
    "\n",
    "    def get_data(self):\n",
    "        data = []\n",
    "        while not self.data_queue.empty():\n",
    "            data.extend(self.data_queue.get())\n",
    "        print(\"Data retrieved:\", data)\n",
    "        return data\n",
    "\n",
    "    def stop_update_process(self):\n",
    "        if self.process:\n",
    "            #pygame. quit()\n",
    "            self.terminate_event.set()  # Set the termination event\n",
    "            self.process.join()  # Wait for the process to exit\n",
    "\n",
    "    def run(self):\n",
    "        self.start_update_process()\n",
    "\n"
   ]
  },
  {
   "cell_type": "code",
   "execution_count": 5,
   "metadata": {},
   "outputs": [
    {
     "data": {
      "text/plain": [
       "[<pygame.joystick.Joystick at 0x7f43ec34c390>]"
      ]
     },
     "execution_count": 5,
     "metadata": {},
     "output_type": "execute_result"
    }
   ],
   "source": [
    "controller = JoystickController()\n",
    "controller.check_joystick_connection()"
   ]
  },
  {
   "cell_type": "code",
   "execution_count": 6,
   "metadata": {},
   "outputs": [],
   "source": [
    "controller.start_update_process(sampling_frequency=5)  # Starts the joystick update process\n",
    "# using multiprocess instead of multiprocessing  \n",
    "#impliment locks\n",
    "\n",
    "    "
   ]
  },
  {
   "cell_type": "code",
   "execution_count": 24,
   "metadata": {},
   "outputs": [
    {
     "name": "stdout",
     "output_type": "stream",
     "text": [
      "Data retrieved: [{'axes': [-0.082275390625, -0.1419677734375, -1.0, 0.05609130859375, 0.003204345703125, -1.0], 'buttons': [0, 0, 0, 0, 0, 0, 0, 0, 0, 0, 0]}, {'axes': [-0.082275390625, -0.1419677734375, -1.0, 0.05609130859375, 0.003204345703125, -1.0], 'buttons': [0, 0, 0, 0, 0, 0, 0, 0, 0, 0, 0]}, {'axes': [-0.082275390625, -0.1419677734375, -1.0, 0.05609130859375, 0.003204345703125, -1.0], 'buttons': [0, 0, 0, 0, 0, 0, 0, 0, 0, 0, 0]}, {'axes': [-0.082275390625, -0.1419677734375, -1.0, 0.05609130859375, 0.003204345703125, -1.0], 'buttons': [0, 0, 0, 0, 0, 0, 0, 0, 0, 0, 0]}]\n",
      "Received data: [{'axes': [-0.082275390625, -0.1419677734375, -1.0, 0.05609130859375, 0.003204345703125, -1.0], 'buttons': [0, 0, 0, 0, 0, 0, 0, 0, 0, 0, 0]}, {'axes': [-0.082275390625, -0.1419677734375, -1.0, 0.05609130859375, 0.003204345703125, -1.0], 'buttons': [0, 0, 0, 0, 0, 0, 0, 0, 0, 0, 0]}, {'axes': [-0.082275390625, -0.1419677734375, -1.0, 0.05609130859375, 0.003204345703125, -1.0], 'buttons': [0, 0, 0, 0, 0, 0, 0, 0, 0, 0, 0]}, {'axes': [-0.082275390625, -0.1419677734375, -1.0, 0.05609130859375, 0.003204345703125, -1.0], 'buttons': [0, 0, 0, 0, 0, 0, 0, 0, 0, 0, 0]}]\n"
     ]
    }
   ],
   "source": [
    "data = controller.get_data()\n",
    "print(\"Received data:\", data)"
   ]
  },
  {
   "cell_type": "code",
   "execution_count": 25,
   "metadata": {},
   "outputs": [],
   "source": [
    "controller.stop_update_process()"
   ]
  },
  {
   "cell_type": "code",
   "execution_count": 26,
   "metadata": {},
   "outputs": [
    {
     "data": {
      "text/plain": [
       "False"
      ]
     },
     "execution_count": 26,
     "metadata": {},
     "output_type": "execute_result"
    }
   ],
   "source": [
    "controller.process.is_alive()"
   ]
  }
 ],
 "metadata": {
  "kernelspec": {
   "display_name": "Python 3 (ipykernel)",
   "language": "python",
   "name": "python3"
  },
  "language_info": {
   "codemirror_mode": {
    "name": "ipython",
    "version": 3
   },
   "file_extension": ".py",
   "mimetype": "text/x-python",
   "name": "python",
   "nbconvert_exporter": "python",
   "pygments_lexer": "ipython3",
   "version": "3.11.5"
  }
 },
 "nbformat": 4,
 "nbformat_minor": 2
}
