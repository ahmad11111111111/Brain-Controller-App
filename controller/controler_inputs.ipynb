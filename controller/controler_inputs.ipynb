{
 "cells": [
  {
   "cell_type": "code",
   "execution_count": 1,
   "metadata": {},
   "outputs": [
    {
     "name": "stdout",
     "output_type": "stream",
     "text": [
      "pygame 2.5.1 (SDL 2.28.2, Python 3.9.13)\n",
      "Hello from the pygame community. https://www.pygame.org/contribute.html\n"
     ]
    }
   ],
   "source": [
    "import pygame\n",
    "from typing import Any, Optional, List\n",
    "from pathlib import Path\n",
    "from libbci.inputdevice import  InputDevice#from .ble.charcontroller import CharController\n",
    "import time\n",
    "\n",
    "class Joystick(InputDevice):\n",
    "    def __init__(self):\n",
    "        pygame.init()\n",
    "\n",
    "        # Set up the game controller\n",
    "        self.pygame_joystick = pygame.joystick.Joystick(0)\n",
    "        self.pygame_joystick.init()\n",
    "        # buffer\n",
    "        self.data_buffer = []\n",
    "\n",
    "    def get_data(self):\n",
    "        while True:\n",
    "            pygame.init()\n",
    "            self.pygame_joystick = pygame.joystick.Joystick(0)\n",
    "            self.pygame_joystick.init()\n",
    "            x_axis_data =0\n",
    "            y_axis_data = 0\n",
    "            x_axis_data = self.pygame_joystick.get_axis(0)\n",
    "            y_axis_data = self.pygame_joystick.get_axis(1)\n",
    "            self.data_buffer.append([x_axis_data, y_axis_data])\n",
    "            return self.data_buffer\n",
    "\n",
    "    def flush_buffer(self):\n",
    "        self.data_buffer = []\n",
    "    \n",
    "    def get_input(self):\n",
    "        data = self.get_data()\n",
    "        return data"
   ]
  },
  {
   "cell_type": "code",
   "execution_count": 2,
   "metadata": {},
   "outputs": [
    {
     "name": "stdout",
     "output_type": "stream",
     "text": [
      "[[-0.091766357421875, -0.1551513671875]]\n",
      "[[-0.091766357421875, -0.1551513671875]]\n",
      "[[-0.091766357421875, -0.1551513671875]]\n",
      "[[-0.091766357421875, -0.1551513671875]]\n",
      "[[-0.091766357421875, -0.1551513671875]]\n",
      "[[-0.091766357421875, -0.1551513671875]]\n",
      "[[-0.091766357421875, -0.1551513671875]]\n"
     ]
    },
    {
     "name": "stdout",
     "output_type": "stream",
     "text": [
      "[[-0.091766357421875, -0.1551513671875]]\n"
     ]
    }
   ],
   "source": [
    "joystick = Joystick()\n",
    "\n",
    "while True:\n",
    "    joystick.flush_buffer()\n",
    "    data = joystick.get_input()\n",
    "    joystick.flush_buffer()\n",
    "    print(data)\n",
    "    time.sleep(1)"
   ]
  }
 ],
 "metadata": {
  "kernelspec": {
   "display_name": "manenv",
   "language": "python",
   "name": "python3"
  },
  "language_info": {
   "codemirror_mode": {
    "name": "ipython",
    "version": 3
   },
   "file_extension": ".py",
   "mimetype": "text/x-python",
   "name": "python",
   "nbconvert_exporter": "python",
   "pygments_lexer": "ipython3",
   "version": "3.9.13"
  },
  "orig_nbformat": 4
 },
 "nbformat": 4,
 "nbformat_minor": 2
}
