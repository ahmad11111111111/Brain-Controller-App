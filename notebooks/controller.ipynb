{
 "cells": [
  {
   "cell_type": "code",
   "execution_count": 61,
   "metadata": {},
   "outputs": [],
   "source": [
    "import pygame\n",
    "from typing import Any, Optional, List\n",
    "from pathlib import Path\n",
    "from libbci.inputdevice import  InputDevice#from .ble.charcontroller import CharController\n",
    "import time\n",
    "\n",
    "class Joystick_controller:\n",
    "    def __init__(self):\n",
    "        self.pygame_joystick = pygame.joystick.Joystick(0)\n",
    "        self.pygame_joystick.init()\n",
    "        self.num_axes = self.pygame_joystick.get_numaxes()\n",
    "        self.num_buttons = self.pygame_joystick.get_numbuttons()\n",
    "    def get_data(self):\n",
    "        pygame.event.get()\n",
    "        x_axis_data = self.pygame_joystick.get_axis(0)\n",
    "        y_axis_data = self.pygame_joystick.get_axis(1)\n",
    "        self.data_buffer.append([x_axis_data, y_axis_data])\n",
    "        return self.data_buffer\n",
    "\n",
    "    def flush_buffer(self):\n",
    "        self.data_buffer = []\n",
    "\n",
    "class Joystick_device(InputDevice):\n",
    "    def __init__(self):\n",
    "        pygame.init()\n",
    "        \n",
    "\n",
    "        # Set up the game controller\n",
    "        self.pygame_joystick = pygame.joystick.Joystick(0)\n",
    "        self.pygame_joystick.init()\n",
    "        # buffer\n",
    "        self.data_buffer = []\n",
    "    \n",
    "    def get_input(self):\n",
    "        data = self.get_data()\n",
    "        return data"
   ]
  },
  {
   "cell_type": "code",
   "execution_count": null,
   "metadata": {},
   "outputs": [],
   "source": [
    "#clocking mechanism\n",
    "#theres an application loop that calls get input\n",
    "#samples data from a buffer need to expose data when git inbput is called\n",
    "#eeg heaset pip install and look at get_raw_data\n",
    "\n",
    "\n",
    "#joystock model get controler1 x axis get controller 2 y axis\n",
    "#joystick class that allows us to defien the object\n",
    "\n",
    "#nexus instument and nexus device uses instrument as souce of truth\n",
    "#get data and joystic controller should return numpy array 6 by t ,6,256 "
   ]
  },
  {
   "cell_type": "code",
   "execution_count": 62,
   "metadata": {},
   "outputs": [
    {
     "data": {
      "text/plain": [
       "[-0.028472900390625,\n",
       " -0.079254150390625,\n",
       " -1.0,\n",
       " -0.10589599609375,\n",
       " 0.012908935546875,\n",
       " -1.0]"
      ]
     },
     "execution_count": 62,
     "metadata": {},
     "output_type": "execute_result"
    }
   ],
   "source": [
    "pygame.event.get()\n",
    "[\n",
    "    joystick.pygame_joystick.get_axis(i)\n",
    "    for i in range(6)\n",
    "]"
   ]
  },
  {
   "cell_type": "code",
   "execution_count": 63,
   "metadata": {},
   "outputs": [],
   "source": [
    "joystick = Joystick()"
   ]
  },
  {
   "cell_type": "code",
   "execution_count": 64,
   "metadata": {},
   "outputs": [
    {
     "name": "stdout",
     "output_type": "stream",
     "text": [
      "[[-0.028472900390625, -0.079254150390625]]\n"
     ]
    },
    {
     "name": "stdout",
     "output_type": "stream",
     "text": [
      "[[-0.028472900390625, -0.079254150390625]]\n",
      "[[-0.028472900390625, -0.079254150390625]]\n",
      "[[-0.028472900390625, -0.079254150390625]]\n",
      "[[-0.028472900390625, -0.079254150390625]]\n",
      "[[0.1297607421875, -0.211273193359375]]\n",
      "[[-0.110748291015625, -1.0]]\n",
      "[[0.999969482421875, -0.181549072265625]]\n",
      "[[0.401885986328125, 0.82830810546875]]\n",
      "[[-0.892364501953125, 0.346466064453125]]\n",
      "[[-0.92083740234375, -0.48187255859375]]\n",
      "[[-0.02215576171875, -0.069366455078125]]\n",
      "[[-0.02215576171875, -0.069366455078125]]\n",
      "[[-0.02215576171875, -0.069366455078125]]\n",
      "[[-0.02215576171875, -0.069366455078125]]\n",
      "[[-0.02215576171875, -0.069366455078125]]\n",
      "[[-0.02215576171875, -0.069366455078125]]\n",
      "[[-0.02215576171875, -0.069366455078125]]\n"
     ]
    },
    {
     "ename": "KeyboardInterrupt",
     "evalue": "",
     "output_type": "error",
     "traceback": [
      "\u001b[0;31m---------------------------------------------------------------------------\u001b[0m",
      "\u001b[0;31mKeyboardInterrupt\u001b[0m                         Traceback (most recent call last)",
      "\u001b[1;32m/home/ahmad/Documents/controlerapp/Brain-Controller-App/controller/controler_inputs.ipynb Cell 5\u001b[0m in \u001b[0;36m<cell line: 2>\u001b[0;34m()\u001b[0m\n\u001b[1;32m      <a href='vscode-notebook-cell:/home/ahmad/Documents/controlerapp/Brain-Controller-App/controller/controler_inputs.ipynb#W1sZmlsZQ%3D%3D?line=3'>4</a>\u001b[0m joystick\u001b[39m.\u001b[39mflush_buffer()\n\u001b[1;32m      <a href='vscode-notebook-cell:/home/ahmad/Documents/controlerapp/Brain-Controller-App/controller/controler_inputs.ipynb#W1sZmlsZQ%3D%3D?line=4'>5</a>\u001b[0m \u001b[39mprint\u001b[39m(data)\n\u001b[0;32m----> <a href='vscode-notebook-cell:/home/ahmad/Documents/controlerapp/Brain-Controller-App/controller/controler_inputs.ipynb#W1sZmlsZQ%3D%3D?line=5'>6</a>\u001b[0m time\u001b[39m.\u001b[39;49msleep(\u001b[39m1\u001b[39;49m)\n",
      "\u001b[0;31mKeyboardInterrupt\u001b[0m: "
     ]
    }
   ],
   "source": [
    "\n",
    "while True:\n",
    "    joystick.flush_buffer()\n",
    "    data = joystick.get_input()\n",
    "    joystick.flush_buffer()\n",
    "    print(data)\n",
    "    time.sleep(1)"
   ]
  }
 ],
 "metadata": {
  "kernelspec": {
   "display_name": "manenv",
   "language": "python",
   "name": "python3"
  },
  "language_info": {
   "codemirror_mode": {
    "name": "ipython",
    "version": 3
   },
   "file_extension": ".py",
   "mimetype": "text/x-python",
   "name": "python",
   "nbconvert_exporter": "python",
   "pygments_lexer": "ipython3",
   "version": "3.9.13"
  },
  "orig_nbformat": 4
 },
 "nbformat": 4,
 "nbformat_minor": 2
}
