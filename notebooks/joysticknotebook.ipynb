{
 "cells": [
  {
   "cell_type": "code",
   "execution_count": null,
   "metadata": {},
   "outputs": [],
   "source": [
    "import json\n",
    "class Joystick:\n",
    "    def __init__(self, joystick_controller,InputDevice):\n",
    "        self.joystick_controller = joystick_controller\n",
    "\n",
    "    def get_input(self):\n",
    "        data = self.joystick_controller.get_data()\n",
    "\n",
    "        # Write data to a file with newline-separated JSON format\n",
    "        filename = \"joystick_data.txt\"\n",
    "        with open(filename, \"a\") as file:\n",
    "            for instance in data:\n",
    "                json.dump(instance, file)\n",
    "                file.write('\\n')  # Add a newline after each instance\n",
    "        return None  # Return None after writing the data"
   ]
  }
 ],
 "metadata": {
  "language_info": {
   "name": "python"
  },
  "orig_nbformat": 4
 },
 "nbformat": 4,
 "nbformat_minor": 2
}
