{
 "cells": [
  {
   "cell_type": "code",
   "execution_count": 10,
   "metadata": {},
   "outputs": [],
   "source": [
    "\n",
    "import pygame\n",
    "import multiprocessing\n",
    "import time\n",
    "class JoystickController:\n",
    "    def __init__(self):\n",
    "        pygame.init()\n",
    "        self.joysticks = []\n",
    "        self.initialize_joysticks()\n",
    "        self.data_queue = multiprocessing.Queue()  # Use a Queue for data\n",
    "        self.process = None\n",
    "        self.terminate_event = multiprocessing.Event()  # Initialize the termination event\n",
    "\n",
    "    def initialize_joysticks(self):\n",
    "        num_joysticks = pygame.joystick.get_count()\n",
    "        for i in range(num_joysticks):\n",
    "            joystick = pygame.joystick.Joystick(i)\n",
    "            joystick.init()\n",
    "            self.joysticks.append(joystick)\n",
    "\n",
    "    def check_joystick_connection(self):\n",
    "        connected_joysticks = []\n",
    "        for joystick in self.joysticks:\n",
    "            if joystick.get_init():\n",
    "                connected_joysticks.append(joystick)\n",
    "        return connected_joysticks\n",
    "\n",
    "    def update(self):\n",
    "        while not self.terminate_event.is_set():  # Exit when termination event is set\n",
    "            joystick_data_list = []\n",
    "            connected_joysticks = self.check_joystick_connection()\n",
    "            \n",
    "            for joystick in connected_joysticks:\n",
    "                pygame.event.get()\n",
    "                num_axes = joystick.get_numaxes()\n",
    "                num_buttons = joystick.get_numbuttons()\n",
    "\n",
    "                axes = [0.0] * num_axes\n",
    "                buttons = [False] * num_buttons\n",
    "\n",
    "                for i in range(num_axes):\n",
    "                    axes[i] = joystick.get_axis(i)\n",
    "\n",
    "                for i in range(num_buttons):\n",
    "                    buttons[i] = joystick.get_button(i)\n",
    "\n",
    "                joystick_data = {\n",
    "                    \"axes\": axes,\n",
    "                    \"buttons\": buttons\n",
    "                }\n",
    "                joystick_data_list.append(joystick_data)\n",
    "           # pygame.quit()\n",
    "\n",
    "            # Put the data into the queue\n",
    "            self.data_queue.put(joystick_data_list)\n",
    "           # print(\"Data put into the queue:\", joystick_data_list)\n",
    "            time.sleep(0.1)  \n",
    "    def start_update_process(self):\n",
    "        self.process = multiprocessing.Process(target=self.update)\n",
    "        self.process.start()\n",
    "\n",
    "    def get_data(self):\n",
    "        data = []\n",
    "        while not self.data_queue.empty():\n",
    "            data.extend(self.data_queue.get())\n",
    "        print(\"Data retrieved:\", data)\n",
    "        return data\n",
    "\n",
    "    def stop_update_process(self):\n",
    "        if self.process:\n",
    "            #pygame. quit()\n",
    "            self.terminate_event.set()  # Set the termination event\n",
    "            self.process.join()  # Wait for the process to exit\n",
    "\n",
    "    def run(self):\n",
    "        self.start_update_process()\n"
   ]
  },
  {
   "cell_type": "code",
   "execution_count": 34,
   "metadata": {},
   "outputs": [
    {
     "data": {
      "text/plain": [
       "[]"
      ]
     },
     "execution_count": 34,
     "metadata": {},
     "output_type": "execute_result"
    }
   ],
   "source": [
    "controller.check_joystick_connection()"
   ]
  },
  {
   "cell_type": "code",
   "execution_count": 20,
   "metadata": {},
   "outputs": [
    {
     "name": "stderr",
     "output_type": "stream",
     "text": [
      "Process Process-8:\n",
      "Traceback (most recent call last):\n",
      "  File \"/home/ahmad/.conda/envs/env1/lib/python3.11/multiprocessing/process.py\", line 314, in _bootstrap\n",
      "    self.run()\n",
      "  File \"/home/ahmad/.conda/envs/env1/lib/python3.11/multiprocessing/process.py\", line 108, in run\n",
      "    self._target(*self._args, **self._kwargs)\n",
      "  File \"/tmp/ipykernel_41161/224650498.py\", line 56, in update\n",
      "    time.sleep(0.1)\n",
      "KeyboardInterrupt\n"
     ]
    }
   ],
   "source": [
    "    controller = JoystickController()\n",
    "    controller.run()  # Starts the joystick update process\n",
    "# using multiprocess instead of multiprocessing  \n",
    "#impliment locks\n",
    "\n",
    "    "
   ]
  },
  {
   "cell_type": "code",
   "execution_count": 33,
   "metadata": {},
   "outputs": [
    {
     "name": "stdout",
     "output_type": "stream",
     "text": [
      "Data retrieved: []\n",
      "Received data: []\n"
     ]
    }
   ],
   "source": [
    "data = controller.get_data()\n",
    "print(\"Received data:\", data)"
   ]
  },
  {
   "cell_type": "code",
   "execution_count": 17,
   "metadata": {},
   "outputs": [],
   "source": [
    "controller.stop_update_process()"
   ]
  },
  {
   "cell_type": "code",
   "execution_count": 21,
   "metadata": {},
   "outputs": [
    {
     "data": {
      "text/plain": [
       "True"
      ]
     },
     "execution_count": 21,
     "metadata": {},
     "output_type": "execute_result"
    }
   ],
   "source": [
    "controller.process.is_alive()"
   ]
  }
 ],
 "metadata": {
  "kernelspec": {
   "display_name": "Python 3 (ipykernel)",
   "language": "python",
   "name": "python3"
  },
  "language_info": {
   "codemirror_mode": {
    "name": "ipython",
    "version": 3
   },
   "file_extension": ".py",
   "mimetype": "text/x-python",
   "name": "python",
   "nbconvert_exporter": "python",
   "pygments_lexer": "ipython3",
   "version": "3.11.5"
  }
 },
 "nbformat": 4,
 "nbformat_minor": 2
}
